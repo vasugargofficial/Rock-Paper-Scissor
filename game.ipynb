{
 "cells": [
  {
   "cell_type": "code",
   "execution_count": 23,
   "metadata": {},
   "outputs": [],
   "source": [
    "import cv2\n",
    "import tensorflow as tf\n",
    "from keras.preprocessing import image\n",
    "import random\n",
    "import numpy as np"
   ]
  },
  {
   "cell_type": "code",
   "execution_count": 24,
   "metadata": {},
   "outputs": [],
   "source": [
    "model = tf.keras.models.load_model('rps.h5')"
   ]
  },
  {
   "cell_type": "code",
   "execution_count": 31,
   "metadata": {},
   "outputs": [
    {
     "name": "stdout",
     "output_type": "stream",
     "text": [
      "comp side\n",
      "users side\n",
      "users side\n",
      "1 2\n"
     ]
    }
   ],
   "source": [
    "predicted=0\n",
    "user=0\n",
    "comp=0\n",
    "for i in range(3):\n",
    "    key = cv2. waitKey(1)\n",
    "    webcam = cv2.VideoCapture(0)\n",
    "    while True:\n",
    "        try:\n",
    "            check, frame = webcam.read()\n",
    "            cv2.imshow(\"choose your Move & press S \", frame)\n",
    "            key = cv2.waitKey(1)\n",
    "            if key == ord('s'): \n",
    "                cv2.imwrite(filename='move_img.jpg', img=frame)\n",
    "                webcam.release()\n",
    "                cv2.waitKey(1000)\n",
    "                cv2.destroyAllWindows()\n",
    "                img_ = cv2.imread('move_img.jpg', cv2.IMREAD_ANYCOLOR)\n",
    "                img_ = cv2.resize(img_,(150,150))\n",
    "                cv2.imwrite(filename='move_img.jpg',img=img_)\n",
    "                break\n",
    "            elif key == ord('q'):\n",
    "                webcam.release()\n",
    "                cv2.destroyAllWindows()\n",
    "                break\n",
    "\n",
    "        except(KeyboardInterrupt):\n",
    "            webcam.release()\n",
    "            cv2.destroyAllWindows()\n",
    "            break\n",
    "            \n",
    "    move=image.load_img('move_img.jpg')\n",
    "    x=image.img_to_array(move)\n",
    "    x=np.expand_dims(x,axis=0)\n",
    "    moves=np.vstack([x])\n",
    "    predicted=model.predict_classes(moves)\n",
    "    rock = cv2.imread('rock')\n",
    "    paper = cv2.imread('paper')\n",
    "    scissor = cv2.imread('scissor')\n",
    "    rock = cv2.resize(rock,(150,150))\n",
    "    paper = cv2.resize(paper,(150,150))\n",
    "    scissor = cv2.resize(scissor,(150,150))\n",
    "    usermove = cv2.imread('move_img.jpg')\n",
    "    moveslist=[rock,paper,scissor]\n",
    "    comp_move=random.choice(moveslist)\n",
    "                \n",
    "    if(comp_move.all()==rock.all() and predicted[0]==0):\n",
    "        user=user+1\n",
    "        print('users side')\n",
    "    elif(comp_move.all()==rock.all() and predicted[0]==2):\n",
    "        comp=comp+1\n",
    "        print('comp side')\n",
    "                    \n",
    "    elif(comp_move.all()==scissor.all() and predicted[0]==0):\n",
    "        comp=comp+1\n",
    "        print(\"comp side\")\n",
    "    elif(comp_move.all()==scissor.all() and predicted[0]==1):\n",
    "        user=user+1\n",
    "        print('users side')\n",
    "                    \n",
    "    elif(comp_move.all()==paper.all() and predicted[0]==2):\n",
    "        user=user+1\n",
    "        print('users side')\n",
    "    elif(comp_move.all()==paper.all() and predicted[0]==1):\n",
    "        comp=comp+1\n",
    "        print('comp side')\n",
    "                    \n",
    "    result=np.concatenate((usermove,comp_move),axis=1)\n",
    "    cv2.imshow('Press 0 for next chance',result)\n",
    "    cv2.waitKey(0)\n",
    "    cv2.destroyAllWindows()\n",
    "    \n",
    "compimg = cv2.imread('comp.jpg')\n",
    "userimg = cv2.imread('user.jpg')\n",
    "compimg = cv2.resize(compimg,(200,200))\n",
    "userimg = cv2.resize(userimg,(200,200))\n",
    "print(comp,user)\n",
    "if(comp>user):\n",
    "    cv2.imshow('Result',compimg)\n",
    "    cv2.waitKey(0)\n",
    "    cv2.destroyAllWindows()\n",
    "elif(comp<user):\n",
    "    cv2.imshow('Result',userimg)\n",
    "    cv2.waitKey(0)\n",
    "    cv2.destroyAllWindows()"
   ]
  },
  {
   "cell_type": "code",
   "execution_count": null,
   "metadata": {},
   "outputs": [],
   "source": []
  },
  {
   "cell_type": "code",
   "execution_count": null,
   "metadata": {},
   "outputs": [],
   "source": []
  },
  {
   "cell_type": "code",
   "execution_count": null,
   "metadata": {},
   "outputs": [],
   "source": []
  }
 ],
 "metadata": {
  "kernelspec": {
   "display_name": "tensorflow_env",
   "language": "python",
   "name": "tensorflow_env"
  },
  "language_info": {
   "codemirror_mode": {
    "name": "ipython",
    "version": 3
   },
   "file_extension": ".py",
   "mimetype": "text/x-python",
   "name": "python",
   "nbconvert_exporter": "python",
   "pygments_lexer": "ipython3",
   "version": "3.7.7"
  }
 },
 "nbformat": 4,
 "nbformat_minor": 4
}
